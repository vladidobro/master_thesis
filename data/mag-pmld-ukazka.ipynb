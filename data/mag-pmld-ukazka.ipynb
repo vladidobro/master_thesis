{
 "cells": [
  {
   "cell_type": "code",
   "execution_count": 1,
   "id": "8dc9b03b",
   "metadata": {},
   "outputs": [],
   "source": [
    "import pymolzilla.processing as pm\n",
    "\n",
    "import matplotlib as mpl\n",
    "import matplotlib.pyplot as plt\n",
    "import numpy as np\n",
    "import pandas as pd\n",
    "\n",
    "plt.rc('font', size=10) #controls default text size\n",
    "plt.rc('axes', titlesize=10) #fontsize of the title\n",
    "plt.rc('axes', labelsize=10) #fontsize of the x and y labels\n",
    "plt.rc('xtick', labelsize=8) #fontsize of the x tick labels\n",
    "plt.rc('ytick', labelsize=8) #fontsize of the y tick labels\n",
    "plt.rc('legend', fontsize=10) #fontsize of the legend"
   ]
  },
  {
   "cell_type": "code",
   "execution_count": 8,
   "id": "f4d87dca",
   "metadata": {},
   "outputs": [
    {
     "name": "stdout",
     "output_type": "stream",
     "text": [
      "loading set: 0\n",
      "loading set: 1\n",
      "loading set: 2\n",
      "loading set: 3\n",
      "loading set: 4\n",
      "loading set: 5\n",
      "loading set: 6\n",
      "loading set: 7\n",
      "loading set: 8\n",
      "loading set: 9\n",
      "preprocessing set: 0\n",
      "preprocessing set: 1\n",
      "preprocessing set: 2\n",
      "preprocessing set: 3\n",
      "preprocessing set: 4\n",
      "preprocessing set: 5\n",
      "preprocessing set: 6\n",
      "preprocessing set: 7\n",
      "preprocessing set: 8\n",
      "preprocessing set: 9\n",
      "processing set: 0\n",
      "processing set: 1\n",
      "processing set: 2\n",
      "processing set: 3\n",
      "processing set: 4\n",
      "processing set: 5\n",
      "processing set: 6\n",
      "processing set: 7\n",
      "processing set: 8\n",
      "processing set: 9\n"
     ]
    }
   ],
   "source": [
    "f = pm.cofe_room_t()\n",
    "f.load()\n",
    "f.preprocess()\n",
    "f.process()\n",
    "\n",
    "g=f[6]"
   ]
  },
  {
   "cell_type": "code",
   "execution_count": 9,
   "id": "8e7c6e9f",
   "metadata": {},
   "outputs": [
    {
     "data": {
      "text/plain": [
       "<pymolzilla.processing.mld.FitCubic at 0x7fbf2228bd00>"
      ]
     },
     "execution_count": 9,
     "metadata": {},
     "output_type": "execute_result"
    }
   ],
   "source": [
    "g.analyze()"
   ]
  },
  {
   "cell_type": "code",
   "execution_count": 72,
   "id": "6e1bbd63",
   "metadata": {},
   "outputs": [],
   "source": [
    "phih = g.data['phih']\n",
    "phim = g.fit_anisotropy.phim\n",
    "c = g.data[0.]\n",
    "s = g.data[45.]\n",
    "\n",
    "phihdense = np.linspace(-5,180,num=2000)\n",
    "phimdense = np.degrees(g.fit_anisotropy.free_energy.phih2phim(np.radians(phihdense), hext=207))\n",
    "df = pd.DataFrame({'phih':phihdense,'phim':phimdense})\n",
    "\n",
    "\n",
    "phimticks = np.linspace(0,175,num=15)"
   ]
  },
  {
   "cell_type": "code",
   "execution_count": 73,
   "id": "b8a542ab",
   "metadata": {},
   "outputs": [],
   "source": [
    "def fn(x):\n",
    "    return df['phih'][(df['phim']-x).abs().argsort()[0]]\n",
    "\n",
    "phihticks = np.vectorize(fn)(phimticks)"
   ]
  },
  {
   "cell_type": "code",
   "execution_count": 77,
   "id": "8d3dc14e",
   "metadata": {
    "scrolled": true
   },
   "outputs": [
    {
     "data": {
      "image/png": "[encoded data removed]",
      "text/plain": [
       "<Figure size 360x144 with 2 Axes>"
      ]
     },
     "metadata": {
      "needs_background": "light"
     },
     "output_type": "display_data"
    }
   ],
   "source": [
    "fig, (ax1,ax2) = plt.subplots(1,2,figsize=(5,2),constrained_layout=True)\n",
    "\n",
    "ax1.plot(phih,c)\n",
    "ax1.plot(phih,s)\n",
    "\n",
    "ax2.plot(phim,c)\n",
    "ax2.plot(phim,s)\n",
    "\n",
    "for m in phihticks:\n",
    "    ax1.axvline(x=m, color='gray', linestyle='dashed', linewidth=1)\n",
    "for m in phimticks:\n",
    "    ax2.axvline(x=m, color='gray', linestyle='dashed', linewidth=1)\n",
    "    \n",
    "ax1.set_xlabel(r'$\\varphi_H$ ($\\degree$)')\n",
    "ax2.set_xlabel(r'$\\varphi_M$ ($\\degree$)')\n",
    "ax1.set_ylabel(r'$\\Delta\\beta$ (mrad)')\n",
    "ax2.set_ylabel(r'$\\Delta\\beta$ (mrad)')\n",
    "\n",
    "ax1.text(-0.1, 1.08, \"(a)\", transform=ax1.transAxes)\n",
    "ax2.text(-0.1, 1.08, \"(b)\", transform=ax2.transAxes)\n",
    "\n",
    "\n",
    "fig.savefig('out/anizotropie-ukazka.pdf')"
   ]
  },
  {
   "cell_type": "code",
   "execution_count": 124,
   "id": "1ae87654",
   "metadata": {
    "scrolled": true
   },
   "outputs": [
    {
     "data": {
      "image/png": "[encoded data removed]",
      "text/plain": [
       "<Figure size 180x144 with 1 Axes>"
      ]
     },
     "metadata": {
      "needs_background": "light"
     },
     "output_type": "display_data"
    }
   ],
   "source": [
    "fig2, ax = plt.subplots(figsize=(2.5,2),constrained_layout=True)\n",
    "\n",
    "ax.plot(phih,c, label='0')\n",
    "ax.plot(phih,s, label='45')\n",
    "\n",
    "ax.legend(title=r'$\\beta$')\n",
    "\n",
    "ax.set_xlabel(r'$\\varphi_H$ ($\\degree$)')\n",
    "ax.set_ylabel(r'$\\Delta\\beta$ (mrad)')\n",
    "\n",
    "ax.annotate('', xy=(45,c.min()), xytext=(45,c.max()),\n",
    "            xycoords='data', textcoords='data',\n",
    "            arrowprops={'arrowstyle': '<|-|>', 'color':'C0'}, color='yellow')\n",
    "\n",
    "ax.annotate('', xy=(90,s.min()), xytext=(90,s.max()),\n",
    "            xycoords='data', textcoords='data',\n",
    "            arrowprops={'arrowstyle': '<|-|>', 'color':'C1'}, color='yellow')\n",
    "\n",
    "ax.annotate(r'$P_{[110]}$',xy=(44,0.1), ha='right', va='center')\n",
    "\n",
    "ax.annotate(r'$P_{[100]}$',xy=(89,-0.2), ha='right', va='center')\n",
    "\n",
    "fig2.savefig('out/pmld-ukazka.pdf')"
   ]
  }
 ],
 "metadata": {
  "kernelspec": {
   "display_name": "Python 3 (ipykernel)",
   "language": "python",
   "name": "python3"
  },
  "language_info": {
   "codemirror_mode": {
    "name": "ipython",
    "version": 3
   },
   "file_extension": ".py",
   "mimetype": "text/x-python",
   "name": "python",
   "nbconvert_exporter": "python",
   "pygments_lexer": "ipython3",
   "version": "3.10.4"
  }
 },
 "nbformat": 4,
 "nbformat_minor": 5
}

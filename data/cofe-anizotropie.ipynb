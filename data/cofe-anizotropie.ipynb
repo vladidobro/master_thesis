{
 "cells": [
  {
   "cell_type": "code",
   "execution_count": 1,
   "id": "8120341d",
   "metadata": {},
   "outputs": [],
   "source": [
    "import pymolzilla.processing as pm\n",
    "\n",
    "import numpy as np\n",
    "import matplotlib.pyplot as plt\n",
    "import matplotlib.colors as colors\n",
    "import matplotlib.patches as patches\n",
    "from mpl_toolkits.axes_grid1 import make_axes_locatable\n",
    "  \n",
    "\n",
    "\n",
    "import numdifftools as nd"
   ]
  },
  {
   "cell_type": "code",
   "execution_count": 2,
   "id": "e924ff22",
   "metadata": {},
   "outputs": [],
   "source": [
    "plt.rc('font', size=10) #controls default text size\n",
    "plt.rc('axes', titlesize=10) #fontsize of the title\n",
    "plt.rc('axes', labelsize=10) #fontsize of the x and y labels\n",
    "plt.rc('xtick', labelsize=8) #fontsize of the x tick labels\n",
    "plt.rc('ytick', labelsize=8) #fontsize of the y tick labels\n",
    "plt.rc('legend', fontsize=10) #fontsize of the legend"
   ]
  },
  {
   "cell_type": "code",
   "execution_count": 12,
   "id": "0fdab948",
   "metadata": {
    "collapsed": true
   },
   "outputs": [
    {
     "name": "stdout",
     "output_type": "stream",
     "text": [
      "loading set: 0\n",
      "loading set: 1\n",
      "loading set: 2\n",
      "loading set: 3\n",
      "loading set: 4\n",
      "loading set: 5\n",
      "loading set: 6\n",
      "loading set: 7\n",
      "loading set: 8\n",
      "preprocessing set: 0\n",
      "preprocessing set: 1\n",
      "preprocessing set: 2\n",
      "preprocessing set: 3\n",
      "preprocessing set: 4\n",
      "preprocessing set: 5\n",
      "preprocessing set: 6\n",
      "preprocessing set: 7\n",
      "preprocessing set: 8\n",
      "processing set: 0\n",
      "processing set: 1\n",
      "processing set: 2\n",
      "processing set: 3\n",
      "processing set: 4\n",
      "processing set: 5\n",
      "processing set: 6\n",
      "processing set: 7\n",
      "processing set: 8\n"
     ]
    }
   ],
   "source": [
    "f = pm.cofe_room_t()\n",
    "f.df.drop(7,inplace=True)\n",
    "f.load()\n",
    "f.preprocess()\n",
    "f.process()"
   ]
  },
  {
   "cell_type": "code",
   "execution_count": 29,
   "id": "3fc72865",
   "metadata": {
    "collapsed": true
   },
   "outputs": [
    {
     "name": "stdout",
     "output_type": "stream",
     "text": [
      "analyzing set: 0\n",
      "analyzing set: 1\n",
      "analyzing set: 2\n",
      "analyzing set: 3\n",
      "analyzing set: 4\n",
      "analyzing set: 5\n",
      "analyzing set: 6\n",
      "analyzing set: 7\n",
      "analyzing set: 8\n",
      "postprocessing\n"
     ]
    }
   ],
   "source": [
    "f.analyze()"
   ]
  },
  {
   "cell_type": "code",
   "execution_count": 34,
   "id": "8e07f19a",
   "metadata": {},
   "outputs": [
    {
     "name": "stdout",
     "output_type": "stream",
     "text": [
      "[-0.65658877 -1.80991273 -4.18112314  1.10526313]\n",
      "[ 2.37045166 -3.65728936 -3.84999323  0.89897399]\n",
      "[ 2.81027739 -3.35295872 -3.99329563  0.86902874]\n",
      "[ 2.78026991 -3.29513344 -4.01119824  0.8925873 ]\n",
      "[ 2.85736073 -3.47460987 -3.98123045  0.87310308]\n",
      "[ 2.99436183 -3.62410899 -3.99837316  0.85640948]\n",
      "[ 2.65322756 -3.17214915 -3.90864194  0.91465637]\n",
      "[ 2.51152853 -2.93081971 -3.95947577  0.91212154]\n",
      "[ 2.96677138 -3.47964089 -3.96594922  0.89427202]\n"
     ]
    }
   ],
   "source": [
    "for ff in f:\n",
    "    print(ff.fit_anisotropy.results.x)"
   ]
  },
  {
   "cell_type": "code",
   "execution_count": 162,
   "id": "dfb89441",
   "metadata": {},
   "outputs": [],
   "source": [
    "npoints = 50\n",
    "\n",
    "ex1 = [1.7*2,3.7*2]\n",
    "ey1 = [-4.4*2,-2.4*2]\n",
    "\n",
    "x1 = np.linspace(*ex1, npoints)\n",
    "y1 = np.linspace(*ey1, npoints)\n",
    "xx1, yy1 = np.meshgrid(x1, y1)\n",
    "\n",
    "ex2 = [-4.3*8, -3.6*8]\n",
    "ey2 = [0.6*8, 1.3*8]\n",
    "\n",
    "x2 = np.linspace(*ex2, npoints)\n",
    "y2 = np.linspace(*ey2, npoints)\n",
    "xx2, yy2 = np.meshgrid(x2, y2)\n",
    "\n",
    "dof = 25"
   ]
  },
  {
   "cell_type": "code",
   "execution_count": 163,
   "id": "bc625143",
   "metadata": {},
   "outputs": [
    {
     "name": "stdout",
     "output_type": "stream",
     "text": [
      "0\n",
      "1\n",
      "2\n",
      "3\n",
      "4\n",
      "5\n",
      "6\n",
      "7\n",
      "8\n"
     ]
    }
   ],
   "source": [
    "def g1(x,y,num):\n",
    "    k = f[num].fit_anisotropy.results.x\n",
    "    return f[num].fit_anisotropy.obj([x/2,y/2,k[2],k[3]])\n",
    "def g2(x,y,num):\n",
    "    k = f[num].fit_anisotropy.results.x\n",
    "    return f[num].fit_anisotropy.obj([k[0],k[1],x/8,y/8])\n",
    "\n",
    "def gglev(num):\n",
    "    ssr = f[num].fit_anisotropy.obj(f[num].fit_anisotropy.results.x)\n",
    "    return ssr*(1+4./dof)\n",
    "\n",
    "def gg1(num):\n",
    "    return np.vectorize(g1)(xx1,yy1,num)\n",
    "    \n",
    "def gg2(num):\n",
    "    return np.vectorize(g2)(xx2,yy2,num)\n",
    "\n",
    "zz1=[]\n",
    "zz2=[]\n",
    "lev=[]\n",
    "for i in range(9):\n",
    "    print(i)\n",
    "    zz1 += [gg1(i)]\n",
    "    zz2 += [gg2(i)]\n",
    "    lev += [gglev(i)]"
   ]
  },
  {
   "cell_type": "code",
   "execution_count": 161,
   "id": "5565948c",
   "metadata": {},
   "outputs": [
    {
     "name": "stderr",
     "output_type": "stream",
     "text": [
      "/tmp/ipykernel_34052/1859794126.py:6: UserWarning: No contour levels were found within the data range.\n",
      "  ax2.contour(xx2,yy2,zz2[i], levels=[lev[i]], colors='C'+str(i))\n"
     ]
    },
    {
     "data": {
      "image/png": "[encoded data removed]",
      "text/plain": [
       "<Figure size 374.4x129.6 with 2 Axes>"
      ]
     },
     "metadata": {
      "needs_background": "light"
     },
     "output_type": "display_data"
    }
   ],
   "source": [
    "fig, (ax1, ax2) = plt.subplots(1,2, constrained_layout=True, figsize=(5.2,1.8))\n",
    "arts=[]\n",
    "labels=[]\n",
    "for i in range(9):\n",
    "    ax1.contour(xx1,yy1,zz1[i], levels=[lev[i]], colors='C'+str(i))\n",
    "    ax2.contour(xx2,yy2,zz2[i], levels=[lev[i]], colors='C'+str(i))\n",
    "    arts+=[patches.Ellipse((0,0),1,1,fill=False,edgecolor='C'+str(i))]\n",
    "    labels+=[str(f.df['wavelength'].iloc[i])]\n",
    "ax1.set_aspect(1)\n",
    "ax2.set_aspect(1)\n",
    "\n",
    "\n",
    "ax1.set_xlabel(r\"$\\operatorname{Re} \\tilde{k}_u$ (mT)\")\n",
    "ax2.set_xlabel(r\"$\\operatorname{Re} \\tilde{k}_4$ (mT)\")\n",
    "ax1.set_ylabel(r\"$\\operatorname{Im} \\tilde{k}_u$ (mT)\")\n",
    "ax2.set_ylabel(r\"$\\operatorname{Im} \\tilde{k}_4$ (mT)\")\n",
    "\n",
    "plt.legend(arts,labels,title=r'$\\lambda$ (nm)', borderpad=0, labelspacing=0, bbox_to_anchor=(1.8,1))\n",
    "\n",
    "ax1.text(-0.1, 1.08, \"(a)\", transform=ax1.transAxes)\n",
    "ax2.text(-0.1, 1.08, \"(b)\", transform=ax2.transAxes)\n",
    "\n",
    "fig.savefig('out/cofe-anizotropie.pdf')"
   ]
  },
  {
   "cell_type": "code",
   "execution_count": 131,
   "id": "5a39722a",
   "metadata": {},
   "outputs": [],
   "source": []
  },
  {
   "cell_type": "code",
   "execution_count": null,
   "id": "f5a76720",
   "metadata": {},
   "outputs": [],
   "source": []
  }
 ],
 "metadata": {
  "kernelspec": {
   "display_name": "Python 3 (ipykernel)",
   "language": "python",
   "name": "python3"
  },
  "language_info": {
   "codemirror_mode": {
    "name": "ipython",
    "version": 3
   },
   "file_extension": ".py",
   "mimetype": "text/x-python",
   "name": "python",
   "nbconvert_exporter": "python",
   "pygments_lexer": "ipython3",
   "version": "3.10.4"
  }
 },
 "nbformat": 4,
 "nbformat_minor": 5
}

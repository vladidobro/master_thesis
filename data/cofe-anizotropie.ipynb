{
 "cells": [
  {
   "cell_type": "code",
   "execution_count": 1,
   "id": "63414834",
   "metadata": {},
   "outputs": [],
   "source": [
    "import pymolzilla.processing as pm\n",
    "\n",
    "import numpy as np\n",
    "import matplotlib.pyplot as plt\n",
    "import matplotlib.colors as colors\n",
    "import matplotlib.patches as patches\n",
    "from mpl_toolkits.axes_grid1 import make_axes_locatable\n",
    "  \n",
    "\n",
    "\n",
    "import numdifftools as nd"
   ]
  },
  {
   "cell_type": "code",
   "execution_count": 2,
   "id": "baf0a9ef",
   "metadata": {},
   "outputs": [],
   "source": [
    "plt.rc('font', size=10) #controls default text size\n",
    "plt.rc('axes', titlesize=10) #fontsize of the title\n",
    "plt.rc('axes', labelsize=10) #fontsize of the x and y labels\n",
    "plt.rc('xtick', labelsize=8) #fontsize of the x tick labels\n",
    "plt.rc('ytick', labelsize=8) #fontsize of the y tick labels\n",
    "plt.rc('legend', fontsize=10) #fontsize of the legend"
   ]
  },
  {
   "cell_type": "code",
   "execution_count": 12,
   "id": "9d797c78",
   "metadata": {
    "collapsed": true
   },
   "outputs": [
    {
     "name": "stdout",
     "output_type": "stream",
     "text": [
      "loading set: 0\n",
      "loading set: 1\n",
      "loading set: 2\n",
      "loading set: 3\n",
      "loading set: 4\n",
      "loading set: 5\n",
      "loading set: 6\n",
      "loading set: 7\n",
      "loading set: 8\n",
      "preprocessing set: 0\n",
      "preprocessing set: 1\n",
      "preprocessing set: 2\n",
      "preprocessing set: 3\n",
      "preprocessing set: 4\n",
      "preprocessing set: 5\n",
      "preprocessing set: 6\n",
      "preprocessing set: 7\n",
      "preprocessing set: 8\n",
      "processing set: 0\n",
      "processing set: 1\n",
      "processing set: 2\n",
      "processing set: 3\n",
      "processing set: 4\n",
      "processing set: 5\n",
      "processing set: 6\n",
      "processing set: 7\n",
      "processing set: 8\n"
     ]
    }
   ],
   "source": [
    "f = pm.cofe_room_t()\n",
    "f.df.drop(7,inplace=True)\n",
    "f.load()\n",
    "f.preprocess()\n",
    "f.process()"
   ]
  },
  {
   "cell_type": "code",
   "execution_count": 29,
   "id": "1f2d4d49",
   "metadata": {
    "collapsed": true
   },
   "outputs": [
    {
     "name": "stdout",
     "output_type": "stream",
     "text": [
      "analyzing set: 0\n",
      "analyzing set: 1\n",
      "analyzing set: 2\n",
      "analyzing set: 3\n",
      "analyzing set: 4\n",
      "analyzing set: 5\n",
      "analyzing set: 6\n",
      "analyzing set: 7\n",
      "analyzing set: 8\n",
      "postprocessing\n"
     ]
    }
   ],
   "source": [
    "f.analyze()"
   ]
  },
  {
   "cell_type": "code",
   "execution_count": 34,
   "id": "3cd0f93e",
   "metadata": {},
   "outputs": [
    {
     "name": "stdout",
     "output_type": "stream",
     "text": [
      "[-0.65658877 -1.80991273 -4.18112314  1.10526313]\n",
      "[ 2.37045166 -3.65728936 -3.84999323  0.89897399]\n",
      "[ 2.81027739 -3.35295872 -3.99329563  0.86902874]\n",
      "[ 2.78026991 -3.29513344 -4.01119824  0.8925873 ]\n",
      "[ 2.85736073 -3.47460987 -3.98123045  0.87310308]\n",
      "[ 2.99436183 -3.62410899 -3.99837316  0.85640948]\n",
      "[ 2.65322756 -3.17214915 -3.90864194  0.91465637]\n",
      "[ 2.51152853 -2.93081971 -3.95947577  0.91212154]\n",
      "[ 2.96677138 -3.47964089 -3.96594922  0.89427202]\n"
     ]
    }
   ],
   "source": [
    "for ff in f:\n",
    "    print(ff.fit_anisotropy.results.x)"
   ]
  },
  {
   "cell_type": "code",
   "execution_count": 43,
   "id": "ab98ae49",
   "metadata": {},
   "outputs": [],
   "source": [
    "ex1 = [1.7*2,3.7*2]\n",
    "ey1 = [-4.4*2,-2.4*2]\n",
    "\n",
    "x1 = np.linspace(*ex1,20)\n",
    "y1 = np.linspace(*ey1,20)\n",
    "xx1, yy1 = np.meshgrid(x1, y1)"
   ]
  },
  {
   "cell_type": "code",
   "execution_count": 44,
   "id": "09a7109d",
   "metadata": {},
   "outputs": [],
   "source": [
    "def g1(x,y,num):\n",
    "    k = f[num].fit_anisotropy.results.x\n",
    "    return f[num].fit_anisotropy.obj([x/2,y/2,k[2],k[3]])\n",
    "def g2(x,y,num):\n",
    "    k = f[num].fit_anisotropy.results.x\n",
    "    return f[num].fit_anisotropy.obj([k[0],k[1],x/8,x/8])"
   ]
  },
  {
   "cell_type": "code",
   "execution_count": 89,
   "id": "910fe950",
   "metadata": {},
   "outputs": [],
   "source": [
    "def pl1(num, ax, label='', c='red', ax2=None):\n",
    "    ssr = f[num].fit_anisotropy.obj(f[num].fit_anisotropy.results.x)\n",
    "    dof = 25\n",
    "    level = ssr*(1+4./dof)\n",
    "    zz1 = np.vectorize(g1)(xx1,yy1,num)\n",
    "    CS = ax.contour(xx1,yy1,zz1, levels=[level], colors=c)\n",
    "    plt.clabel(CS)\n",
    "    CS.collections[0].set_label(label)\n",
    "    if ax2 is not None:\n",
    "        ax2.imshow(zz1, origin='lower', extent=ex1+ey1)"
   ]
  },
  {
   "cell_type": "code",
   "execution_count": 91,
   "id": "de8e6c67",
   "metadata": {
    "scrolled": true
   },
   "outputs": [
    {
     "data": {
      "text/plain": [
       "<matplotlib.legend.Legend at 0x7f99bf63f850>"
      ]
     },
     "execution_count": 91,
     "metadata": {},
     "output_type": "execute_result"
    },
    {
     "data": {
      "image/png": "[encoded data removed]",
      "text/plain": [
       "<Figure size 432x288 with 2 Axes>"
      ]
     },
     "metadata": {
      "needs_background": "light"
     },
     "output_type": "display_data"
    }
   ],
   "source": [
    "fig, (ax1, ax2) = plt.subplots(1,2)\n",
    "pl1(5, ax1, 'a', ax2=ax2)\n",
    "ax1.set_aspect(1)\n",
    "ax1.legend()"
   ]
  },
  {
   "cell_type": "code",
   "execution_count": 57,
   "id": "a13ceaeb",
   "metadata": {},
   "outputs": [
    {
     "data": {
      "text/html": [
       "<div>\n",
       "<style scoped>\n",
       "    .dataframe tbody tr th:only-of-type {\n",
       "        vertical-align: middle;\n",
       "    }\n",
       "\n",
       "    .dataframe tbody tr th {\n",
       "        vertical-align: top;\n",
       "    }\n",
       "\n",
       "    .dataframe thead th {\n",
       "        text-align: right;\n",
       "    }\n",
       "</style>\n",
       "<table border=\"1\" class=\"dataframe\">\n",
       "  <thead>\n",
       "    <tr style=\"text-align: right;\">\n",
       "      <th></th>\n",
       "      <th>set</th>\n",
       "      <th>obj</th>\n",
       "      <th>wavelength</th>\n",
       "      <th>flags</th>\n",
       "      <th>sample_rotation</th>\n",
       "      <th>hext</th>\n",
       "      <th>k_canon</th>\n",
       "    </tr>\n",
       "  </thead>\n",
       "  <tbody>\n",
       "    <tr>\n",
       "      <th>0</th>\n",
       "      <td>0460</td>\n",
       "      <td>&lt;pymolzilla.processing.file_import.SetRotmld o...</td>\n",
       "      <td>460</td>\n",
       "      <td>None</td>\n",
       "      <td>0</td>\n",
       "      <td>207</td>\n",
       "      <td>{'ku': 3.8506585938059725, 'phiu': -54.9697204...</td>\n",
       "    </tr>\n",
       "    <tr>\n",
       "      <th>1</th>\n",
       "      <td>0530</td>\n",
       "      <td>&lt;pymolzilla.processing.file_import.SetRotmld o...</td>\n",
       "      <td>530</td>\n",
       "      <td>None</td>\n",
       "      <td>0</td>\n",
       "      <td>207</td>\n",
       "      <td>{'ku': 8.716606344565426, 'phiu': -28.52546785...</td>\n",
       "    </tr>\n",
       "    <tr>\n",
       "      <th>2</th>\n",
       "      <td>0620</td>\n",
       "      <td>&lt;pymolzilla.processing.file_import.SetRotmld o...</td>\n",
       "      <td>620</td>\n",
       "      <td>None</td>\n",
       "      <td>0</td>\n",
       "      <td>207</td>\n",
       "      <td>{'ku': 8.749855130335382, 'phiu': -25.01599684...</td>\n",
       "    </tr>\n",
       "    <tr>\n",
       "      <th>3</th>\n",
       "      <td>0710</td>\n",
       "      <td>&lt;pymolzilla.processing.file_import.SetRotmld o...</td>\n",
       "      <td>710</td>\n",
       "      <td>None</td>\n",
       "      <td>0</td>\n",
       "      <td>207</td>\n",
       "      <td>{'ku': 8.62271539054159, 'phiu': -24.921994787...</td>\n",
       "    </tr>\n",
       "    <tr>\n",
       "      <th>4</th>\n",
       "      <td>0810</td>\n",
       "      <td>&lt;pymolzilla.processing.file_import.SetRotmld o...</td>\n",
       "      <td>810</td>\n",
       "      <td>None</td>\n",
       "      <td>0</td>\n",
       "      <td>207</td>\n",
       "      <td>{'ku': 8.99720491752089, 'phiu': -25.283839708...</td>\n",
       "    </tr>\n",
       "    <tr>\n",
       "      <th>5</th>\n",
       "      <td>0920</td>\n",
       "      <td>&lt;pymolzilla.processing.file_import.SetRotmld o...</td>\n",
       "      <td>920</td>\n",
       "      <td>None</td>\n",
       "      <td>0</td>\n",
       "      <td>207</td>\n",
       "      <td>{'ku': 9.402205845749439, 'phiu': -25.21766348...</td>\n",
       "    </tr>\n",
       "    <tr>\n",
       "      <th>6</th>\n",
       "      <td>1050</td>\n",
       "      <td>&lt;pymolzilla.processing.file_import.SetRotmld o...</td>\n",
       "      <td>1050</td>\n",
       "      <td>None</td>\n",
       "      <td>0</td>\n",
       "      <td>207</td>\n",
       "      <td>{'ku': 8.270948369740944, 'phiu': -25.04522133...</td>\n",
       "    </tr>\n",
       "    <tr>\n",
       "      <th>8</th>\n",
       "      <td>1200</td>\n",
       "      <td>&lt;pymolzilla.processing.file_import.SetRotmld o...</td>\n",
       "      <td>1200</td>\n",
       "      <td>None</td>\n",
       "      <td>0</td>\n",
       "      <td>207</td>\n",
       "      <td>{'ku': 7.719450677664465, 'phiu': -24.70274886...</td>\n",
       "    </tr>\n",
       "    <tr>\n",
       "      <th>9</th>\n",
       "      <td>1450</td>\n",
       "      <td>&lt;pymolzilla.processing.file_import.SetRotmld o...</td>\n",
       "      <td>1450</td>\n",
       "      <td>None</td>\n",
       "      <td>0</td>\n",
       "      <td>207</td>\n",
       "      <td>{'ku': 9.145410457767513, 'phiu': -24.77440414...</td>\n",
       "    </tr>\n",
       "  </tbody>\n",
       "</table>\n",
       "</div>"
      ],
      "text/plain": [
       "    set                                                obj  wavelength flags  \\\n",
       "0  0460  <pymolzilla.processing.file_import.SetRotmld o...         460  None   \n",
       "1  0530  <pymolzilla.processing.file_import.SetRotmld o...         530  None   \n",
       "2  0620  <pymolzilla.processing.file_import.SetRotmld o...         620  None   \n",
       "3  0710  <pymolzilla.processing.file_import.SetRotmld o...         710  None   \n",
       "4  0810  <pymolzilla.processing.file_import.SetRotmld o...         810  None   \n",
       "5  0920  <pymolzilla.processing.file_import.SetRotmld o...         920  None   \n",
       "6  1050  <pymolzilla.processing.file_import.SetRotmld o...        1050  None   \n",
       "8  1200  <pymolzilla.processing.file_import.SetRotmld o...        1200  None   \n",
       "9  1450  <pymolzilla.processing.file_import.SetRotmld o...        1450  None   \n",
       "\n",
       "   sample_rotation  hext                                            k_canon  \n",
       "0                0   207  {'ku': 3.8506585938059725, 'phiu': -54.9697204...  \n",
       "1                0   207  {'ku': 8.716606344565426, 'phiu': -28.52546785...  \n",
       "2                0   207  {'ku': 8.749855130335382, 'phiu': -25.01599684...  \n",
       "3                0   207  {'ku': 8.62271539054159, 'phiu': -24.921994787...  \n",
       "4                0   207  {'ku': 8.99720491752089, 'phiu': -25.283839708...  \n",
       "5                0   207  {'ku': 9.402205845749439, 'phiu': -25.21766348...  \n",
       "6                0   207  {'ku': 8.270948369740944, 'phiu': -25.04522133...  \n",
       "8                0   207  {'ku': 7.719450677664465, 'phiu': -24.70274886...  \n",
       "9                0   207  {'ku': 9.145410457767513, 'phiu': -24.77440414...  "
      ]
     },
     "execution_count": 57,
     "metadata": {},
     "output_type": "execute_result"
    }
   ],
   "source": [
    "f.df"
   ]
  },
  {
   "cell_type": "code",
   "execution_count": null,
   "id": "912f8c39",
   "metadata": {},
   "outputs": [],
   "source": []
  }
 ],
 "metadata": {
  "kernelspec": {
   "display_name": "Python 3 (ipykernel)",
   "language": "python",
   "name": "python3"
  },
  "language_info": {
   "codemirror_mode": {
    "name": "ipython",
    "version": 3
   },
   "file_extension": ".py",
   "mimetype": "text/x-python",
   "name": "python",
   "nbconvert_exporter": "python",
   "pygments_lexer": "ipython3",
   "version": "3.10.4"
  }
 },
 "nbformat": 4,
 "nbformat_minor": 5
}

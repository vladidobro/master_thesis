{
 "cells": [
  {
   "cell_type": "code",
   "execution_count": 1,
   "id": "ca223ef1",
   "metadata": {},
   "outputs": [],
   "source": [
    "import pymolzilla.processing as pm\n",
    "\n",
    "import matplotlib as mpl\n",
    "import matplotlib.pyplot as plt\n",
    "import numpy as np\n",
    "import pandas as pd\n"
   ]
  },
  {
   "cell_type": "code",
   "execution_count": 2,
   "id": "ba75436e",
   "metadata": {},
   "outputs": [],
   "source": [
    "f = pm.cofe_room_t_mirrors()"
   ]
  },
  {
   "cell_type": "code",
   "execution_count": 3,
   "id": "995f34a7",
   "metadata": {},
   "outputs": [
    {
     "data": {
      "text/html": [
       "<div>\n",
       "<style scoped>\n",
       "    .dataframe tbody tr th:only-of-type {\n",
       "        vertical-align: middle;\n",
       "    }\n",
       "\n",
       "    .dataframe tbody tr th {\n",
       "        vertical-align: top;\n",
       "    }\n",
       "\n",
       "    .dataframe thead th {\n",
       "        text-align: right;\n",
       "    }\n",
       "</style>\n",
       "<table border=\"1\" class=\"dataframe\">\n",
       "  <thead>\n",
       "    <tr style=\"text-align: right;\">\n",
       "      <th></th>\n",
       "      <th>set</th>\n",
       "      <th>obj</th>\n",
       "      <th>wavelength</th>\n",
       "      <th>flags</th>\n",
       "      <th>sample_rotation</th>\n",
       "      <th>hext</th>\n",
       "    </tr>\n",
       "  </thead>\n",
       "  <tbody>\n",
       "    <tr>\n",
       "      <th>0</th>\n",
       "      <td>0405</td>\n",
       "      <td>&lt;pymolzilla.processing.file_import.SetRotmld o...</td>\n",
       "      <td>405</td>\n",
       "      <td>None</td>\n",
       "      <td>0</td>\n",
       "      <td>207</td>\n",
       "    </tr>\n",
       "    <tr>\n",
       "      <th>1</th>\n",
       "      <td>0530</td>\n",
       "      <td>&lt;pymolzilla.processing.file_import.SetRotmld o...</td>\n",
       "      <td>530</td>\n",
       "      <td>None</td>\n",
       "      <td>0</td>\n",
       "      <td>207</td>\n",
       "    </tr>\n",
       "    <tr>\n",
       "      <th>2</th>\n",
       "      <td>0620</td>\n",
       "      <td>&lt;pymolzilla.processing.file_import.SetRotmld o...</td>\n",
       "      <td>620</td>\n",
       "      <td>None</td>\n",
       "      <td>0</td>\n",
       "      <td>207</td>\n",
       "    </tr>\n",
       "    <tr>\n",
       "      <th>3</th>\n",
       "      <td>1050</td>\n",
       "      <td>&lt;pymolzilla.processing.file_import.SetRotmld o...</td>\n",
       "      <td>1050</td>\n",
       "      <td>None</td>\n",
       "      <td>0</td>\n",
       "      <td>207</td>\n",
       "    </tr>\n",
       "    <tr>\n",
       "      <th>4</th>\n",
       "      <td>1200</td>\n",
       "      <td>&lt;pymolzilla.processing.file_import.SetRotmld o...</td>\n",
       "      <td>1200</td>\n",
       "      <td>None</td>\n",
       "      <td>0</td>\n",
       "      <td>207</td>\n",
       "    </tr>\n",
       "    <tr>\n",
       "      <th>5</th>\n",
       "      <td>1450</td>\n",
       "      <td>&lt;pymolzilla.processing.file_import.SetRotmld o...</td>\n",
       "      <td>1450</td>\n",
       "      <td>None</td>\n",
       "      <td>0</td>\n",
       "      <td>207</td>\n",
       "    </tr>\n",
       "  </tbody>\n",
       "</table>\n",
       "</div>"
      ],
      "text/plain": [
       "    set                                                obj  wavelength flags  \\\n",
       "0  0405  <pymolzilla.processing.file_import.SetRotmld o...         405  None   \n",
       "1  0530  <pymolzilla.processing.file_import.SetRotmld o...         530  None   \n",
       "2  0620  <pymolzilla.processing.file_import.SetRotmld o...         620  None   \n",
       "3  1050  <pymolzilla.processing.file_import.SetRotmld o...        1050  None   \n",
       "4  1200  <pymolzilla.processing.file_import.SetRotmld o...        1200  None   \n",
       "5  1450  <pymolzilla.processing.file_import.SetRotmld o...        1450  None   \n",
       "\n",
       "   sample_rotation  hext  \n",
       "0                0   207  \n",
       "1                0   207  \n",
       "2                0   207  \n",
       "3                0   207  \n",
       "4                0   207  \n",
       "5                0   207  "
      ]
     },
     "execution_count": 3,
     "metadata": {},
     "output_type": "execute_result"
    }
   ],
   "source": [
    "f.df"
   ]
  },
  {
   "cell_type": "code",
   "execution_count": 4,
   "id": "677bb0e9",
   "metadata": {
    "scrolled": true
   },
   "outputs": [
    {
     "name": "stdout",
     "output_type": "stream",
     "text": [
      "loading set: 0\n",
      "loading set: 1\n",
      "loading set: 2\n",
      "loading set: 3\n",
      "loading set: 4\n",
      "loading set: 5\n",
      "preprocessing set: 0\n",
      "preprocessing set: 1\n",
      "preprocessing set: 2\n",
      "preprocessing set: 3\n",
      "preprocessing set: 4\n",
      "preprocessing set: 5\n"
     ]
    }
   ],
   "source": [
    "f.load()\n",
    "f.preprocess()"
   ]
  },
  {
   "cell_type": "code",
   "execution_count": 5,
   "id": "2ab04461",
   "metadata": {
    "scrolled": true
   },
   "outputs": [
    {
     "name": "stdout",
     "output_type": "stream",
     "text": [
      "processing set: 0\n",
      "processing set: 1\n",
      "processing set: 2\n",
      "processing set: 3\n",
      "processing set: 4\n",
      "processing set: 5\n"
     ]
    }
   ],
   "source": [
    "f.process()"
   ]
  },
  {
   "cell_type": "code",
   "execution_count": 6,
   "id": "87648093",
   "metadata": {
    "scrolled": true
   },
   "outputs": [
    {
     "data": {
      "image/png": "[encoded data removed]",
      "text/plain": [
       "<Figure size 432x288 with 1 Axes>"
      ]
     },
     "metadata": {
      "needs_background": "light"
     },
     "output_type": "display_data"
    }
   ],
   "source": [
    "f[2].plot_all()"
   ]
  },
  {
   "cell_type": "code",
   "execution_count": 7,
   "id": "e2a7527b",
   "metadata": {
    "scrolled": true
   },
   "outputs": [
    {
     "ename": "NameError",
     "evalue": "name 'g' is not defined",
     "output_type": "error",
     "traceback": [
      "\u001b[0;31m---------------------------------------------------------------------------\u001b[0m",
      "\u001b[0;31mNameError\u001b[0m                                 Traceback (most recent call last)",
      "Input \u001b[0;32mIn [7]\u001b[0m, in \u001b[0;36m<cell line: 1>\u001b[0;34m()\u001b[0m\n\u001b[0;32m----> 1\u001b[0m \u001b[43mg\u001b[49m[\u001b[38;5;241m2\u001b[39m]\u001b[38;5;241m.\u001b[39mplot_all()\n",
      "\u001b[0;31mNameError\u001b[0m: name 'g' is not defined"
     ]
    }
   ],
   "source": [
    "g[2].plot_all()"
   ]
  },
  {
   "cell_type": "code",
   "execution_count": null,
   "id": "44228042",
   "metadata": {
    "scrolled": true
   },
   "outputs": [],
   "source": [
    "f.df"
   ]
  },
  {
   "cell_type": "code",
   "execution_count": null,
   "id": "79619194",
   "metadata": {},
   "outputs": [],
   "source": [
    "g.df"
   ]
  }
 ],
 "metadata": {
  "kernelspec": {
   "display_name": "Python 3 (ipykernel)",
   "language": "python",
   "name": "python3"
  },
  "language_info": {
   "codemirror_mode": {
    "name": "ipython",
    "version": 3
   },
   "file_extension": ".py",
   "mimetype": "text/x-python",
   "name": "python",
   "nbconvert_exporter": "python",
   "pygments_lexer": "ipython3",
   "version": "3.10.4"
  }
 },
 "nbformat": 4,
 "nbformat_minor": 5
}

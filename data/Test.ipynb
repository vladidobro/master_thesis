{
 "cells": [
  {
   "cell_type": "code",
   "execution_count": 1,
   "id": "ca223ef1",
   "metadata": {},
   "outputs": [],
   "source": [
    "import pymolzilla.processing as pm\n",
    "\n",
    "import matplotlib.pyplot as plt\n",
    "import numpy as np\n",
    "import pandas as pd"
   ]
  },
  {
   "cell_type": "code",
   "execution_count": 2,
   "id": "1271fa26",
   "metadata": {
    "scrolled": false
   },
   "outputs": [
    {
     "name": "stdout",
     "output_type": "stream",
     "text": [
      "loading set: 0\n",
      "loading set: 1\n",
      "preprocessing set: 0\n",
      "preprocessing set: 1\n",
      "processing set: 0\n",
      "processing set: 1\n",
      "analyzing set: 0\n",
      "analyzing set: 1\n",
      "postprocessing\n"
     ]
    }
   ],
   "source": [
    "f = pm.analyze_and_pkl('cofe_room_t')\n",
    "f = pm.analyze_and_pkl('cofe_low_t')\n",
    "f = pm.analyze_and_pkl('ferh_f_zeynab')\n"
   ]
  },
  {
   "cell_type": "code",
   "execution_count": 3,
   "id": "e41e223a",
   "metadata": {},
   "outputs": [
    {
     "data": {
      "text/html": [
       "<div>\n",
       "<style scoped>\n",
       "    .dataframe tbody tr th:only-of-type {\n",
       "        vertical-align: middle;\n",
       "    }\n",
       "\n",
       "    .dataframe tbody tr th {\n",
       "        vertical-align: top;\n",
       "    }\n",
       "\n",
       "    .dataframe thead th {\n",
       "        text-align: right;\n",
       "    }\n",
       "</style>\n",
       "<table border=\"1\" class=\"dataframe\">\n",
       "  <thead>\n",
       "    <tr style=\"text-align: right;\">\n",
       "      <th></th>\n",
       "      <th>set</th>\n",
       "      <th>obj</th>\n",
       "      <th>wavelength</th>\n",
       "      <th>flags</th>\n",
       "      <th>sample_rotation</th>\n",
       "      <th>hext</th>\n",
       "      <th>k_canon</th>\n",
       "    </tr>\n",
       "  </thead>\n",
       "  <tbody>\n",
       "    <tr>\n",
       "      <th>0</th>\n",
       "      <td>0460</td>\n",
       "      <td>&lt;pymolzilla.processing.file_import.SetRotmld o...</td>\n",
       "      <td>460</td>\n",
       "      <td>None</td>\n",
       "      <td>0</td>\n",
       "      <td>207</td>\n",
       "      <td>{'ku': 3.9292715934895397, 'phiu': -56.0047828...</td>\n",
       "    </tr>\n",
       "    <tr>\n",
       "      <th>1</th>\n",
       "      <td>0530</td>\n",
       "      <td>&lt;pymolzilla.processing.file_import.SetRotmld o...</td>\n",
       "      <td>530</td>\n",
       "      <td>None</td>\n",
       "      <td>0</td>\n",
       "      <td>207</td>\n",
       "      <td>{'ku': 8.505913657533462, 'phiu': -28.38111226...</td>\n",
       "    </tr>\n",
       "  </tbody>\n",
       "</table>\n",
       "</div>"
      ],
      "text/plain": [
       "    set                                                obj  wavelength flags  \\\n",
       "0  0460  <pymolzilla.processing.file_import.SetRotmld o...         460  None   \n",
       "1  0530  <pymolzilla.processing.file_import.SetRotmld o...         530  None   \n",
       "\n",
       "   sample_rotation  hext                                            k_canon  \n",
       "0                0   207  {'ku': 3.9292715934895397, 'phiu': -56.0047828...  \n",
       "1                0   207  {'ku': 8.505913657533462, 'phiu': -28.38111226...  "
      ]
     },
     "execution_count": 3,
     "metadata": {},
     "output_type": "execute_result"
    }
   ],
   "source": [
    "f.df"
   ]
  },
  {
   "cell_type": "code",
   "execution_count": 8,
   "id": "f4545a98",
   "metadata": {},
   "outputs": [
    {
     "data": {
      "text/plain": [
       "{'ku': 3.9292715934895397,\n",
       " 'phiu': -56.00478282538821,\n",
       " 'kc': 34.54385869326249,\n",
       " 'phic': 41.576216060003645}"
      ]
     },
     "execution_count": 8,
     "metadata": {},
     "output_type": "execute_result"
    }
   ],
   "source": [
    "f.df['k_canon'][0]"
   ]
  },
  {
   "cell_type": "code",
   "execution_count": null,
   "id": "6832724a",
   "metadata": {},
   "outputs": [],
   "source": []
  }
 ],
 "metadata": {
  "kernelspec": {
   "display_name": "Python 3 (ipykernel)",
   "language": "python",
   "name": "python3"
  },
  "language_info": {
   "codemirror_mode": {
    "name": "ipython",
    "version": 3
   },
   "file_extension": ".py",
   "mimetype": "text/x-python",
   "name": "python",
   "nbconvert_exporter": "python",
   "pygments_lexer": "ipython3",
   "version": "3.10.4"
  }
 },
 "nbformat": 4,
 "nbformat_minor": 5
}

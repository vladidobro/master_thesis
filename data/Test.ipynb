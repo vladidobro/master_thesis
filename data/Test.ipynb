{
 "cells": [
  {
   "cell_type": "code",
   "execution_count": 47,
   "id": "ca223ef1",
   "metadata": {},
   "outputs": [],
   "source": [
    "import pymolzilla.processing as pm\n",
    "\n",
    "import matplotlib as mpl\n",
    "import matplotlib.pyplot as plt\n",
    "import numpy as np\n",
    "import pandas as pd\n",
    "\n",
    "import statsmodels.api as sm"
   ]
  },
  {
   "cell_type": "code",
   "execution_count": 98,
   "id": "e4920025",
   "metadata": {},
   "outputs": [],
   "source": [
    "x = np.linspace(-10, 10, 100)\n",
    "X = np.column_stack([x])\n",
    "beta = np.array([1, 1])\n",
    "e = np.random.normal(size=100)\n",
    "\n",
    "X = sm.add_constant(X)\n",
    "y = np.dot(X, beta) + e"
   ]
  },
  {
   "cell_type": "code",
   "execution_count": 104,
   "id": "f17d7c95",
   "metadata": {},
   "outputs": [
    {
     "name": "stdout",
     "output_type": "stream",
     "text": [
      "                            OLS Regression Results                            \n",
      "==============================================================================\n",
      "Dep. Variable:                      y   R-squared:                       0.968\n",
      "Model:                            OLS   Adj. R-squared:                  0.968\n",
      "Method:                 Least Squares   F-statistic:                     3004.\n",
      "Date:                Mon, 25 Apr 2022   Prob (F-statistic):           2.48e-75\n",
      "Time:                        17:13:36   Log-Likelihood:                -147.55\n",
      "No. Observations:                 100   AIC:                             299.1\n",
      "Df Residuals:                      98   BIC:                             304.3\n",
      "Df Model:                           1                                         \n",
      "Covariance Type:            nonrobust                                         \n",
      "==============================================================================\n",
      "                 coef    std err          t      P>|t|      [0.025      0.975]\n",
      "------------------------------------------------------------------------------\n",
      "const          0.8660      0.107      8.102      0.000       0.654       1.078\n",
      "x1             1.0046      0.018     54.805      0.000       0.968       1.041\n",
      "==============================================================================\n",
      "Omnibus:                        0.155   Durbin-Watson:                   2.303\n",
      "Prob(Omnibus):                  0.925   Jarque-Bera (JB):                0.007\n",
      "Skew:                           0.014   Prob(JB):                        0.996\n",
      "Kurtosis:                       3.031   Cond. No.                         5.83\n",
      "==============================================================================\n",
      "\n",
      "Notes:\n",
      "[1] Standard Errors assume that the covariance matrix of the errors is correctly specified.\n"
     ]
    }
   ],
   "source": [
    "model = sm.OLS(y, X)\n",
    "results = model.fit()\n",
    "print(results.summary())\n",
    "ssr = results.ssr"
   ]
  },
  {
   "cell_type": "code",
   "execution_count": 100,
   "id": "759874f4",
   "metadata": {},
   "outputs": [],
   "source": [
    "@np.vectorize\n",
    "def obj(b1,b2):\n",
    "    yy=np.dot(X, [b1,b2])\n",
    "    return ((y-yy)**2).sum()"
   ]
  },
  {
   "cell_type": "code",
   "execution_count": 129,
   "id": "623183b4",
   "metadata": {},
   "outputs": [],
   "source": [
    "ext=[0.7,1.1]\n",
    "xx = np.linspace(*ext,200)\n",
    "yy = xx\n",
    "\n",
    "mx, my = np.meshgrid(xx, yy)\n",
    "mz = obj(mx,my)"
   ]
  },
  {
   "cell_type": "code",
   "execution_count": 141,
   "id": "0ebfc562",
   "metadata": {},
   "outputs": [
    {
     "data": {
      "text/plain": [
       "<matplotlib.legend.Legend at 0x7f11a4ca3d60>"
      ]
     },
     "execution_count": 141,
     "metadata": {},
     "output_type": "execute_result"
    },
    {
     "data": {
      "image/png": "[encoded data removed]",
      "text/plain": [
       "<Figure size 432x288 with 1 Axes>"
      ]
     },
     "metadata": {
      "needs_background": "light"
     },
     "output_type": "display_data"
    }
   ],
   "source": [
    "\n",
    "cs = plt.contour(mx,my,mz,levels=[ssr*1.01])\n",
    "cs.collections[0].set_label('asd')\n",
    "plt.legend()"
   ]
  },
  {
   "cell_type": "code",
   "execution_count": 103,
   "id": "08f41b6f",
   "metadata": {},
   "outputs": [
    {
     "data": {
      "text/plain": [
       "[<matplotlib.lines.Line2D at 0x7f11a57bb550>]"
      ]
     },
     "execution_count": 103,
     "metadata": {},
     "output_type": "execute_result"
    },
    {
     "data": {
      "image/png": "[encoded data removed]",
      "text/plain": [
       "<Figure size 432x288 with 1 Axes>"
      ]
     },
     "metadata": {
      "needs_background": "light"
     },
     "output_type": "display_data"
    }
   ],
   "source": [
    "plt.plot(x,y)"
   ]
  },
  {
   "cell_type": "code",
   "execution_count": 106,
   "id": "ff4cdc69",
   "metadata": {},
   "outputs": [
    {
     "data": {
      "text/plain": [
       "111.97526086761633"
      ]
     },
     "execution_count": 106,
     "metadata": {},
     "output_type": "execute_result"
    }
   ],
   "source": [
    "ssr"
   ]
  },
  {
   "cell_type": "code",
   "execution_count": 107,
   "id": "46e83241",
   "metadata": {},
   "outputs": [
    {
     "data": {
      "text/plain": [
       "array(113.84200445)"
      ]
     },
     "execution_count": 107,
     "metadata": {},
     "output_type": "execute_result"
    }
   ],
   "source": [
    "obj(1,1)"
   ]
  },
  {
   "cell_type": "code",
   "execution_count": null,
   "id": "26e404a5",
   "metadata": {},
   "outputs": [],
   "source": []
  }
 ],
 "metadata": {
  "kernelspec": {
   "display_name": "Python 3 (ipykernel)",
   "language": "python",
   "name": "python3"
  },
  "language_info": {
   "codemirror_mode": {
    "name": "ipython",
    "version": 3
   },
   "file_extension": ".py",
   "mimetype": "text/x-python",
   "name": "python",
   "nbconvert_exporter": "python",
   "pygments_lexer": "ipython3",
   "version": "3.10.4"
  }
 },
 "nbformat": 4,
 "nbformat_minor": 5
}

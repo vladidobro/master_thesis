{
 "cells": [
  {
   "cell_type": "code",
   "execution_count": 1,
   "id": "ca223ef1",
   "metadata": {},
   "outputs": [],
   "source": [
    "import pymolzilla.processing as pm\n",
    "\n",
    "import matplotlib.pyplot as plt\n",
    "import numpy as np\n",
    "import pandas as pd"
   ]
  },
  {
   "cell_type": "code",
   "execution_count": 2,
   "id": "ba5185d9",
   "metadata": {
    "scrolled": true
   },
   "outputs": [
    {
     "name": "stdout",
     "output_type": "stream",
     "text": [
      "loading set: 0\n",
      "preprocessing set: 0\n",
      "processing set: 0\n"
     ]
    }
   ],
   "source": [
    "f = pm.stokes_tests()\n",
    "f.load()\n",
    "f.preprocess()\n",
    "f.process()"
   ]
  },
  {
   "cell_type": "code",
   "execution_count": 4,
   "id": "32cc4fd4",
   "metadata": {},
   "outputs": [
    {
     "name": "stdout",
     "output_type": "stream",
     "text": [
      "analyzing set: 0\n",
      "postprocessing\n"
     ]
    }
   ],
   "source": [
    "f.analyze()"
   ]
  },
  {
   "cell_type": "code",
   "execution_count": 15,
   "id": "4b6533f6",
   "metadata": {},
   "outputs": [
    {
     "data": {
      "text/plain": [
       "0    26.148518\n",
       "Name: dbeta, dtype: float64"
      ]
     },
     "execution_count": 15,
     "metadata": {},
     "output_type": "execute_result"
    }
   ],
   "source": [
    "f[0].df[f[0].df['beta']==0.]['dbeta']"
   ]
  }
 ],
 "metadata": {
  "kernelspec": {
   "display_name": "Python 3 (ipykernel)",
   "language": "python",
   "name": "python3"
  },
  "language_info": {
   "codemirror_mode": {
    "name": "ipython",
    "version": 3
   },
   "file_extension": ".py",
   "mimetype": "text/x-python",
   "name": "python",
   "nbconvert_exporter": "python",
   "pygments_lexer": "ipython3",
   "version": "3.10.4"
  }
 },
 "nbformat": 4,
 "nbformat_minor": 5
}

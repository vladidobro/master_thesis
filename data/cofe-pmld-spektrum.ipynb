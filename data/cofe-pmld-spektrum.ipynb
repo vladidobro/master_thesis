{
 "cells": [
  {
   "cell_type": "code",
   "execution_count": 1,
   "id": "e832860e",
   "metadata": {},
   "outputs": [],
   "source": [
    "import pymolzilla.processing as pm\n",
    "\n",
    "import matplotlib as mpl\n",
    "import matplotlib.pyplot as plt\n",
    "import numpy as np\n",
    "import pandas as pd\n",
    "\n",
    "plt.rc('font', size=8) #controls default text size\n",
    "plt.rc('axes', titlesize=8) #fontsize of the title\n",
    "plt.rc('axes', labelsize=8) #fontsize of the x and y labels\n",
    "plt.rc('xtick', labelsize=8) #fontsize of the x tick labels\n",
    "plt.rc('ytick', labelsize=8) #fontsize of the y tick labels\n",
    "plt.rc('legend', fontsize=8) #fontsize of the legend"
   ]
  },
  {
   "cell_type": "code",
   "execution_count": 2,
   "id": "95efa987",
   "metadata": {},
   "outputs": [],
   "source": [
    "f1 = pm.cofe_room_t()\n",
    "f2 = pm.cofe_low_t()"
   ]
  },
  {
   "cell_type": "code",
   "execution_count": 3,
   "id": "e80cf682",
   "metadata": {},
   "outputs": [],
   "source": [
    "f1.df = f1.df.iloc[5:7]"
   ]
  },
  {
   "cell_type": "code",
   "execution_count": 4,
   "id": "5a7f6a09",
   "metadata": {},
   "outputs": [
    {
     "data": {
      "text/html": [
       "<div>\n",
       "<style scoped>\n",
       "    .dataframe tbody tr th:only-of-type {\n",
       "        vertical-align: middle;\n",
       "    }\n",
       "\n",
       "    .dataframe tbody tr th {\n",
       "        vertical-align: top;\n",
       "    }\n",
       "\n",
       "    .dataframe thead th {\n",
       "        text-align: right;\n",
       "    }\n",
       "</style>\n",
       "<table border=\"1\" class=\"dataframe\">\n",
       "  <thead>\n",
       "    <tr style=\"text-align: right;\">\n",
       "      <th></th>\n",
       "      <th>set</th>\n",
       "      <th>obj</th>\n",
       "      <th>wavelength</th>\n",
       "      <th>flags</th>\n",
       "      <th>sample_rotation</th>\n",
       "      <th>hext</th>\n",
       "    </tr>\n",
       "  </thead>\n",
       "  <tbody>\n",
       "    <tr>\n",
       "      <th>5</th>\n",
       "      <td>0920</td>\n",
       "      <td>&lt;pymolzilla.processing.file_import.SetRotmld o...</td>\n",
       "      <td>920</td>\n",
       "      <td>None</td>\n",
       "      <td>0</td>\n",
       "      <td>207</td>\n",
       "    </tr>\n",
       "    <tr>\n",
       "      <th>6</th>\n",
       "      <td>1050</td>\n",
       "      <td>&lt;pymolzilla.processing.file_import.SetRotmld o...</td>\n",
       "      <td>1050</td>\n",
       "      <td>None</td>\n",
       "      <td>0</td>\n",
       "      <td>207</td>\n",
       "    </tr>\n",
       "  </tbody>\n",
       "</table>\n",
       "</div>"
      ],
      "text/plain": [
       "    set                                                obj  wavelength flags  \\\n",
       "5  0920  <pymolzilla.processing.file_import.SetRotmld o...         920  None   \n",
       "6  1050  <pymolzilla.processing.file_import.SetRotmld o...        1050  None   \n",
       "\n",
       "   sample_rotation  hext  \n",
       "5                0   207  \n",
       "6                0   207  "
      ]
     },
     "execution_count": 4,
     "metadata": {},
     "output_type": "execute_result"
    }
   ],
   "source": [
    "f1.df"
   ]
  },
  {
   "cell_type": "code",
   "execution_count": 5,
   "id": "b7903f9b",
   "metadata": {},
   "outputs": [
    {
     "name": "stdout",
     "output_type": "stream",
     "text": [
      "loading set: 0\n",
      "loading set: 1\n",
      "preprocessing set: 0\n",
      "preprocessing set: 1\n",
      "processing set: 0\n",
      "processing set: 1\n"
     ]
    }
   ],
   "source": [
    "f1.load()\n",
    "f1.preprocess()\n",
    "f1.process()"
   ]
  },
  {
   "cell_type": "code",
   "execution_count": 6,
   "id": "51c8856e",
   "metadata": {},
   "outputs": [
    {
     "name": "stdout",
     "output_type": "stream",
     "text": [
      "analyzing set: 0\n",
      "analyzing set: 1\n",
      "postprocessing\n"
     ]
    }
   ],
   "source": [
    "f1.analyze()"
   ]
  },
  {
   "cell_type": "code",
   "execution_count": 8,
   "id": "29d34528",
   "metadata": {},
   "outputs": [
    {
     "data": {
      "text/plain": [
       "['__class__',\n",
       " '__delattr__',\n",
       " '__dict__',\n",
       " '__dir__',\n",
       " '__doc__',\n",
       " '__eq__',\n",
       " '__format__',\n",
       " '__ge__',\n",
       " '__getattribute__',\n",
       " '__gt__',\n",
       " '__hash__',\n",
       " '__init__',\n",
       " '__init_subclass__',\n",
       " '__le__',\n",
       " '__lt__',\n",
       " '__module__',\n",
       " '__ne__',\n",
       " '__new__',\n",
       " '__reduce__',\n",
       " '__reduce_ex__',\n",
       " '__repr__',\n",
       " '__setattr__',\n",
       " '__sizeof__',\n",
       " '__str__',\n",
       " '__subclasshook__',\n",
       " '__weakref__',\n",
       " 'centered_tss',\n",
       " 'data',\n",
       " 'df_resid',\n",
       " 'fit',\n",
       " 'nobs',\n",
       " 'results',\n",
       " 'rsquared',\n",
       " 'rsquared_adj',\n",
       " 'ssr']"
      ]
     },
     "execution_count": 8,
     "metadata": {},
     "output_type": "execute_result"
    }
   ],
   "source": [
    "dir(f1[0].fit_anisotropy.pmldfit)"
   ]
  },
  {
   "cell_type": "code",
   "execution_count": null,
   "id": "c4d4d5e4",
   "metadata": {},
   "outputs": [],
   "source": []
  }
 ],
 "metadata": {
  "kernelspec": {
   "display_name": "Python 3 (ipykernel)",
   "language": "python",
   "name": "python3"
  },
  "language_info": {
   "codemirror_mode": {
    "name": "ipython",
    "version": 3
   },
   "file_extension": ".py",
   "mimetype": "text/x-python",
   "name": "python",
   "nbconvert_exporter": "python",
   "pygments_lexer": "ipython3",
   "version": "3.10.4"
  }
 },
 "nbformat": 4,
 "nbformat_minor": 5
}

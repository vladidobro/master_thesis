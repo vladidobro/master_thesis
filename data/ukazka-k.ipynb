{
 "cells": [
  {
   "cell_type": "code",
   "execution_count": 110,
   "id": "b33ebd71",
   "metadata": {},
   "outputs": [],
   "source": [
    "import pymolzilla.processing as pm\n",
    "\n",
    "import numpy as np\n",
    "import matplotlib.pyplot as plt\n",
    "import matplotlib.colors as colors\n",
    "import matplotlib.patches as patches"
   ]
  },
  {
   "cell_type": "code",
   "execution_count": 38,
   "id": "ce02eb0e",
   "metadata": {},
   "outputs": [
    {
     "name": "stdout",
     "output_type": "stream",
     "text": [
      "loading set: 0\n",
      "loading set: 1\n",
      "loading set: 2\n",
      "loading set: 3\n",
      "loading set: 4\n",
      "loading set: 5\n",
      "loading set: 6\n",
      "loading set: 7\n",
      "loading set: 8\n",
      "loading set: 9\n",
      "preprocessing set: 0\n",
      "preprocessing set: 1\n",
      "preprocessing set: 2\n",
      "preprocessing set: 3\n",
      "preprocessing set: 4\n",
      "preprocessing set: 5\n",
      "preprocessing set: 6\n",
      "preprocessing set: 7\n",
      "preprocessing set: 8\n",
      "preprocessing set: 9\n",
      "processing set: 0\n",
      "processing set: 1\n",
      "processing set: 2\n",
      "processing set: 3\n",
      "processing set: 4\n",
      "processing set: 5\n",
      "processing set: 6\n",
      "processing set: 7\n",
      "processing set: 8\n",
      "processing set: 9\n"
     ]
    }
   ],
   "source": [
    "f = pm.cofe_room_t()\n",
    "f.load()\n",
    "f.preprocess()\n",
    "f.process()"
   ]
  },
  {
   "cell_type": "code",
   "execution_count": 39,
   "id": "417353a3",
   "metadata": {
    "scrolled": true
   },
   "outputs": [
    {
     "name": "stdout",
     "output_type": "stream",
     "text": [
      "analyzing set: 0\n",
      "analyzing set: 1\n",
      "analyzing set: 2\n",
      "analyzing set: 3\n",
      "analyzing set: 4\n",
      "analyzing set: 5\n",
      "analyzing set: 6\n",
      "analyzing set: 7\n",
      "analyzing set: 8\n",
      "analyzing set: 9\n",
      "postprocessing\n"
     ]
    }
   ],
   "source": [
    "f.analyze()"
   ]
  },
  {
   "cell_type": "code",
   "execution_count": 67,
   "id": "e7db6b27",
   "metadata": {
    "scrolled": true
   },
   "outputs": [
    {
     "name": "stdout",
     "output_type": "stream",
     "text": [
      "0.05616265858430715\n",
      "0.00016336725460932067\n",
      "{2: (2.6469526611940917-3.176365204098649j), 4: (-3.907011661776603+0.9105599146248565j)}\n"
     ]
    }
   ],
   "source": [
    "k_id = f[6].fit_anisotropy.free_energy.k\n",
    "\n",
    "print(f[6].fit_anisotropy.obj([0,0,0,0]))\n",
    "print(f[6].fit_anisotropy.obj([2.6,-3.1,-3.9,0.9]))\n",
    "print(f[6].fit_anisotropy.free_energy.k)\n",
    "\n",
    "#0.05616265858430715\n",
    "#0.00016336725460932067\n",
    "#{2: (2.6469526611940917-3.176365204098649j), 4: (-3.907011661776603+0.9105599146248565j)}"
   ]
  },
  {
   "cell_type": "code",
   "execution_count": 135,
   "id": "747a041c",
   "metadata": {},
   "outputs": [],
   "source": [
    "ell = patches.Ellipse((k_id[2].real, k_id[2].imag),1,1)"
   ]
  },
  {
   "cell_type": "code",
   "execution_count": 157,
   "id": "9d4cd9d3",
   "metadata": {},
   "outputs": [],
   "source": [
    "ext_x=[-5,5]\n",
    "ext_y=[-5,5]\n",
    "\n",
    "x = np.linspace(*ext_x,20)\n",
    "y = np.linspace(*ext_y,20)\n",
    "xx, yy = np.meshgrid(x, y)"
   ]
  },
  {
   "cell_type": "code",
   "execution_count": 158,
   "id": "ab9868d1",
   "metadata": {},
   "outputs": [],
   "source": [
    "def g(x,y,num):\n",
    "    return np.sqrt(f[num].fit_anisotropy.obj([x,y,k_id[4].real,k_id[4].imag]))\n",
    "\n",
    "def factory(num):\n",
    "    def gg(x,y):\n",
    "        return g(x,y,num)\n",
    "    return gg\n",
    "\n",
    "def plot(num):\n",
    "    zz = np.vectorize(factory(num))(xx,yy)\n",
    "    plt.figure()\n",
    "    ax = plt.gca()\n",
    "    ell = patches.Ellipse((k_id[2].real, k_id[2].imag),1,1, facecolor=None, edgecolor='r')\n",
    "    ax.imshow(zz,norm=colors.LogNorm(vmin=zz.min(),vmax=zz.max()), extent=ext_x+ext_y, origin='lower')\n",
    "    ax.add_patch(ell)"
   ]
  },
  {
   "cell_type": "code",
   "execution_count": 159,
   "id": "e455e9a6",
   "metadata": {
    "scrolled": true
   },
   "outputs": [
    {
     "data": {
      "image/png": "[encoded data removed]",
      "text/plain": [
       "<Figure size 432x288 with 1 Axes>"
      ]
     },
     "metadata": {
      "needs_background": "light"
     },
     "output_type": "display_data"
    }
   ],
   "source": [
    "plot(6)"
   ]
  },
  {
   "cell_type": "code",
   "execution_count": 98,
   "id": "47e1a203",
   "metadata": {
    "scrolled": true
   },
   "outputs": [
    {
     "data": {
      "text/plain": [
       "                        fun: 0.00015581777277453353\n",
       " lowest_optimization_result:       fun: 0.00015581777277453353\n",
       " hess_inv: array([[4.23771543e+02, 1.22284885e+02, 6.09317143e+01, 8.70558305e+01],\n",
       "       [1.22284885e+02, 7.94611445e+01, 1.37409075e-01, 3.54436884e+01],\n",
       "       [6.09317143e+01, 1.37409075e-01, 1.08613961e+02, 3.00652556e+01],\n",
       "       [8.70558305e+01, 3.54436884e+01, 3.00652556e+01, 8.98646348e+01]])\n",
       "      jac: array([-7.31199179e-06,  1.78620758e-06,  5.81923450e-06, -6.30894101e-06])\n",
       "  message: 'Optimization terminated successfully.'\n",
       "     nfev: 215\n",
       "      nit: 33\n",
       "     njev: 43\n",
       "   status: 0\n",
       "  success: True\n",
       "        x: array([ 2.64695266, -3.1763652 , -3.90701166,  0.91055991])\n",
       "                    message: ['requested number of basinhopping iterations completed successfully']\n",
       "      minimization_failures: 1\n",
       "                       nfev: 1122\n",
       "                        nit: 3\n",
       "                       njev: 222\n",
       "                    success: True\n",
       "                          x: array([ 2.64695266, -3.1763652 , -3.90701166,  0.91055991])"
      ]
     },
     "execution_count": 98,
     "metadata": {},
     "output_type": "execute_result"
    }
   ],
   "source": [
    "f[6].fit_anisotropy.results"
   ]
  },
  {
   "cell_type": "code",
   "execution_count": 109,
   "id": "011c31dd",
   "metadata": {},
   "outputs": [],
   "source": [
    "hess = np.array([[4.23771543e+02, 1.22284885e+02, 6.09317143e+01, 8.70558305e+01],\n",
    "       [1.22284885e+02, 7.94611445e+01, 1.37409075e-01, 3.54436884e+01],\n",
    "       [6.09317143e+01, 1.37409075e-01, 1.08613961e+02, 3.00652556e+01],\n",
    "       [8.70558305e+01, 3.54436884e+01, 3.00652556e+01, 8.98646348e+01]])"
   ]
  },
  {
   "cell_type": "code",
   "execution_count": 152,
   "id": "237a7ec5",
   "metadata": {},
   "outputs": [],
   "source": [
    "zz = np.vectorize(lambda x,y: (x-1)**2+(y-2)**2)(xx,yy)"
   ]
  },
  {
   "cell_type": "code",
   "execution_count": 153,
   "id": "2831f1ff",
   "metadata": {},
   "outputs": [
    {
     "data": {
      "text/plain": [
       "<matplotlib.image.AxesImage at 0x7f557e2d11e0>"
      ]
     },
     "execution_count": 153,
     "metadata": {},
     "output_type": "execute_result"
    },
    {
     "data": {
      "image/png": "[encoded data removed]",
      "text/plain": [
       "<Figure size 432x288 with 1 Axes>"
      ]
     },
     "metadata": {
      "needs_background": "light"
     },
     "output_type": "display_data"
    }
   ],
   "source": [
    "plt.imshow(zz)"
   ]
  },
  {
   "cell_type": "code",
   "execution_count": null,
   "id": "63749ede",
   "metadata": {},
   "outputs": [],
   "source": []
  }
 ],
 "metadata": {
  "kernelspec": {
   "display_name": "Python 3 (ipykernel)",
   "language": "python",
   "name": "python3"
  },
  "language_info": {
   "codemirror_mode": {
    "name": "ipython",
    "version": 3
   },
   "file_extension": ".py",
   "mimetype": "text/x-python",
   "name": "python",
   "nbconvert_exporter": "python",
   "pygments_lexer": "ipython3",
   "version": "3.10.4"
  }
 },
 "nbformat": 4,
 "nbformat_minor": 5
}

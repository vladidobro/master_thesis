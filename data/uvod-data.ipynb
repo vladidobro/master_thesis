{
 "cells": [
  {
   "cell_type": "code",
   "execution_count": 1,
   "id": "c7f22f03",
   "metadata": {
    "scrolled": false
   },
   "outputs": [],
   "source": [
    "import pymolzilla.processing as pm\n",
    "\n",
    "import matplotlib as mpl\n",
    "import matplotlib.pyplot as plt\n",
    "import numpy as np\n",
    "import pandas as pd\n",
    "\n",
    "plt.rc('font', size=10) #controls default text size\n",
    "plt.rc('axes', titlesize=10) #fontsize of the title\n",
    "plt.rc('axes', labelsize=10) #fontsize of the x and y labels\n",
    "plt.rc('xtick', labelsize=8) #fontsize of the x tick labels\n",
    "plt.rc('ytick', labelsize=8) #fontsize of the y tick labels\n",
    "plt.rc('legend', fontsize=10) #fontsize of the legend"
   ]
  },
  {
   "cell_type": "code",
   "execution_count": 2,
   "id": "c9398e59",
   "metadata": {},
   "outputs": [
    {
     "data": {
      "text/plain": [
       "Text(-0.1, 1.08, '(b)')"
      ]
     },
     "execution_count": 2,
     "metadata": {},
     "output_type": "execute_result"
    },
    {
     "data": {
      "image/png": "[encoded data removed]",
      "text/plain": [
       "<Figure size 360x158.4 with 2 Axes>"
      ]
     },
     "metadata": {
      "needs_background": "light"
     },
     "output_type": "display_data"
    }
   ],
   "source": [
    "fig, (ax1, ax2) = plt.subplots(1,2,figsize=(5,2.2),constrained_layout=True)\n",
    "\n",
    "ax1.set_xlabel(r\"$\\varphi_H$ ($\\degree$)\")\n",
    "ax1.set_ylabel(r\"$\\Delta\\beta$ (mrad)\")\n",
    "ax2.set_xlabel(r\"$\\varphi_H$ ($\\degree$)\")\n",
    "ax2.set_ylabel(r\"$\\varphi_M$ ($\\degree$)\")\n",
    "\n",
    "ax1.text(-0.1, 1.08, \"(a)\", transform=ax1.transAxes)\n",
    "ax2.text(-0.1, 1.08, \"(b)\", transform=ax2.transAxes)"
   ]
  },
  {
   "cell_type": "code",
   "execution_count": 3,
   "id": "3908e507",
   "metadata": {},
   "outputs": [
    {
     "name": "stdout",
     "output_type": "stream",
     "text": [
      "loading set: 0\n",
      "loading set: 1\n",
      "loading set: 2\n",
      "loading set: 3\n",
      "loading set: 4\n",
      "loading set: 5\n",
      "preprocessing set: 0\n",
      "preprocessing set: 1\n",
      "preprocessing set: 2\n",
      "preprocessing set: 3\n",
      "preprocessing set: 4\n",
      "preprocessing set: 5\n"
     ]
    },
    {
     "data": {
      "text/plain": [
       "<matplotlib.legend.Legend at 0x7f6222fc2b60>"
      ]
     },
     "execution_count": 3,
     "metadata": {},
     "output_type": "execute_result"
    }
   ],
   "source": [
    "f = pm.cofe_room_t_mirrors()\n",
    "f.load()\n",
    "f.preprocess()\n",
    "for ff in f:\n",
    "    ff.collect_merge()\n",
    "f[3].data = f[3].data[['phih',0.,90.,40.,130.]]\n",
    "\n",
    "f[3].plot_all(ax1)\n",
    "ax1.legend(title=r\"$\\beta$\", labels=[0,90,40,130])"
   ]
  },
  {
   "cell_type": "code",
   "execution_count": 4,
   "id": "5a5f31d0",
   "metadata": {
    "scrolled": true
   },
   "outputs": [
    {
     "name": "stdout",
     "output_type": "stream",
     "text": [
      "loading set: 0\n",
      "loading set: 1\n",
      "loading set: 2\n",
      "loading set: 3\n",
      "loading set: 4\n",
      "loading set: 5\n",
      "preprocessing set: 0\n",
      "preprocessing set: 1\n",
      "preprocessing set: 2\n",
      "preprocessing set: 3\n",
      "preprocessing set: 4\n",
      "preprocessing set: 5\n",
      "processing set: 0\n",
      "processing set: 1\n",
      "processing set: 2\n",
      "processing set: 3\n",
      "processing set: 4\n",
      "processing set: 5\n"
     ]
    },
    {
     "data": {
      "text/plain": [
       "<matplotlib.legend.Legend at 0x7f6256f50490>"
      ]
     },
     "execution_count": 4,
     "metadata": {},
     "output_type": "execute_result"
    }
   ],
   "source": [
    "g = pm.cofe_room_t_mirrors()\n",
    "g.load()\n",
    "g.preprocess()\n",
    "g.process()\n",
    "\n",
    "for gg in g:\n",
    "    exp = -gg.data[45.] + 1j * gg.data[0.]\n",
    "    gg.phim = np.degrees(np.angle(exp))/2\n",
    "    \n",
    "g[0].phim += 90\n",
    "g[1].phim += 90\n",
    "g[2].phim += 90\n",
    "#g[4].phim += 90\n",
    "#g[5].phim += 90\n",
    "\n",
    "g[0].phim[0]+=180\n",
    "for gg in g[1:]:\n",
    "    gg.phim += np.round((gg.data['phih']-gg.phim)/180)*180\n",
    "\n",
    "labs=['405','530','620','1050','1200','1450']\n",
    "\n",
    "for i in range(6):\n",
    "    ax2.plot(g[i].data['phih'], g[i].phim, label=labs[i])\n",
    "\n",
    "ax2.legend(title=r\"$\\lambda$ (nm)\", labelspacing=0, loc='lower right')"
   ]
  },
  {
   "cell_type": "code",
   "execution_count": 5,
   "id": "6ee5a15b",
   "metadata": {},
   "outputs": [],
   "source": [
    "fig.savefig('out/uvod-data.pdf')"
   ]
  },
  {
   "cell_type": "code",
   "execution_count": null,
   "id": "2cd4bb54",
   "metadata": {},
   "outputs": [],
   "source": []
  }
 ],
 "metadata": {
  "kernelspec": {
   "display_name": "Python 3 (ipykernel)",
   "language": "python",
   "name": "python3"
  },
  "language_info": {
   "codemirror_mode": {
    "name": "ipython",
    "version": 3
   },
   "file_extension": ".py",
   "mimetype": "text/x-python",
   "name": "python",
   "nbconvert_exporter": "python",
   "pygments_lexer": "ipython3",
   "version": "3.10.4"
  }
 },
 "nbformat": 4,
 "nbformat_minor": 5
}

{
 "cells": [
  {
   "cell_type": "code",
   "execution_count": 1,
   "id": "90774654",
   "metadata": {},
   "outputs": [],
   "source": [
    "import pymolzilla.processing as pm\n",
    "\n",
    "import matplotlib as mpl\n",
    "import matplotlib.pyplot as plt\n",
    "import numpy as np\n",
    "import pandas as pd\n",
    "\n",
    "plt.rc('font', size=10) #controls default text size\n",
    "plt.rc('axes', titlesize=8) #fontsize of the title\n",
    "plt.rc('axes', labelsize=10) #fontsize of the x and y labels\n",
    "plt.rc('xtick', labelsize=8) #fontsize of the x tick labels\n",
    "plt.rc('ytick', labelsize=8) #fontsize of the y tick labels\n",
    "plt.rc('legend', fontsize=8) #fontsize of the legend"
   ]
  },
  {
   "cell_type": "code",
   "execution_count": 4,
   "id": "8a6811c0",
   "metadata": {},
   "outputs": [
    {
     "name": "stdout",
     "output_type": "stream",
     "text": [
      "loading set: 0\n",
      "loading set: 1\n",
      "loading set: 2\n",
      "loading set: 3\n",
      "loading set: 4\n",
      "loading set: 5\n",
      "loading set: 6\n",
      "loading set: 7\n",
      "loading set: 8\n",
      "loading set: 9\n",
      "loading set: 10\n",
      "loading set: 11\n",
      "loading set: 12\n",
      "loading set: 13\n",
      "loading set: 14\n",
      "preprocessing set: 0\n",
      "preprocessing set: 1\n",
      "preprocessing set: 2\n",
      "preprocessing set: 3\n",
      "preprocessing set: 4\n",
      "preprocessing set: 5\n",
      "preprocessing set: 6\n",
      "preprocessing set: 7\n",
      "preprocessing set: 8\n",
      "preprocessing set: 9\n",
      "preprocessing set: 10\n",
      "preprocessing set: 11\n",
      "preprocessing set: 12\n",
      "preprocessing set: 13\n",
      "preprocessing set: 14\n",
      "processing set: 0\n",
      "processing set: 1\n",
      "processing set: 2\n",
      "processing set: 3\n",
      "processing set: 4\n",
      "processing set: 5\n",
      "processing set: 6\n",
      "processing set: 7\n",
      "processing set: 8\n",
      "processing set: 9\n",
      "processing set: 10\n",
      "processing set: 11\n",
      "processing set: 12\n",
      "processing set: 13\n",
      "processing set: 14\n"
     ]
    }
   ],
   "source": [
    "f = pm.ferh_fm_zeynab()\n",
    "f.load()\n",
    "f.preprocess()\n",
    "f.process()"
   ]
  },
  {
   "cell_type": "code",
   "execution_count": 6,
   "id": "aa596e5e",
   "metadata": {},
   "outputs": [
    {
     "name": "stdout",
     "output_type": "stream",
     "text": [
      "analyzing set: 0\n",
      "analyzing set: 1\n",
      "analyzing set: 2\n",
      "analyzing set: 3\n",
      "analyzing set: 4\n",
      "analyzing set: 5\n",
      "analyzing set: 6\n",
      "analyzing set: 7\n",
      "analyzing set: 8\n",
      "analyzing set: 9\n",
      "analyzing set: 10\n",
      "analyzing set: 11\n",
      "analyzing set: 12\n",
      "analyzing set: 13\n",
      "analyzing set: 14\n",
      "postprocessing\n"
     ]
    }
   ],
   "source": [
    "f.analyze()"
   ]
  },
  {
   "cell_type": "code",
   "execution_count": 21,
   "id": "b9c8aa4f",
   "metadata": {},
   "outputs": [
    {
     "data": {
      "image/png": "[encoded data removed]",
      "text/plain": [
       "<Figure size 288x129.6 with 1 Axes>"
      ]
     },
     "metadata": {
      "needs_background": "light"
     },
     "output_type": "display_data"
    }
   ],
   "source": [
    "fig, ax = plt.subplots(figsize=(4,1.8),constrained_layout=True)\n",
    "\n",
    "fd=f.df[(f.df.hext==50) & (f.df.sample_rotation==0)]\n",
    "\n",
    "ax.errorbar(fd['wavelength'], fd['Pp'], 0.02, color='C0', marker='.', label=r'$P_+$', capsize=5)\n",
    "ax.errorbar(fd['wavelength'], fd['Pm'], 0.02, color='C1', marker='.', label=r'$P_-$', capsize=5)\n",
    "\n",
    "\n",
    "ax.axhline(y=0, color='black', linewidth=1)\n",
    "\n",
    "ax.set_xlabel(r'$\\lambda$ (nm)')\n",
    "ax.set_ylabel(r'MO koeficient (mrad)')\n",
    "\n",
    "ax.legend(bbox_to_anchor=(1,1))\n",
    "\n",
    "fig.savefig('out/ferh-pmld.pdf')"
   ]
  },
  {
   "cell_type": "code",
   "execution_count": null,
   "id": "57bf88a5",
   "metadata": {},
   "outputs": [],
   "source": []
  }
 ],
 "metadata": {
  "kernelspec": {
   "display_name": "Python 3 (ipykernel)",
   "language": "python",
   "name": "python3"
  },
  "language_info": {
   "codemirror_mode": {
    "name": "ipython",
    "version": 3
   },
   "file_extension": ".py",
   "mimetype": "text/x-python",
   "name": "python",
   "nbconvert_exporter": "python",
   "pygments_lexer": "ipython3",
   "version": "3.10.4"
  }
 },
 "nbformat": 4,
 "nbformat_minor": 5
}

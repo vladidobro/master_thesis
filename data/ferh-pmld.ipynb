{
 "cells": [
  {
   "cell_type": "code",
   "execution_count": 1,
   "id": "90774654",
   "metadata": {},
   "outputs": [],
   "source": [
    "import pymolzilla.processing as pm\n",
    "\n",
    "import matplotlib as mpl\n",
    "import matplotlib.pyplot as plt\n",
    "import numpy as np\n",
    "import pandas as pd\n",
    "\n",
    "plt.rc('font', size=10) #controls default text size\n",
    "plt.rc('axes', titlesize=8) #fontsize of the title\n",
    "plt.rc('axes', labelsize=10) #fontsize of the x and y labels\n",
    "plt.rc('xtick', labelsize=8) #fontsize of the x tick labels\n",
    "plt.rc('ytick', labelsize=8) #fontsize of the y tick labels\n",
    "plt.rc('legend', fontsize=8) #fontsize of the legend\n",
    "\n",
    "import locale\n",
    "locale.setlocale(locale.LC_ALL, 'cs_CZ.utf8')\n",
    "plt.rcParams['axes.formatter.use_locale'] = True"
   ]
  },
  {
   "cell_type": "code",
   "execution_count": 2,
   "id": "8a6811c0",
   "metadata": {},
   "outputs": [
    {
     "name": "stdout",
     "output_type": "stream",
     "text": [
      "loading set: 0\n",
      "loading set: 1\n",
      "loading set: 2\n",
      "loading set: 3\n",
      "loading set: 4\n",
      "loading set: 5\n",
      "loading set: 6\n",
      "loading set: 7\n",
      "loading set: 8\n",
      "loading set: 9\n",
      "loading set: 10\n",
      "loading set: 11\n",
      "loading set: 12\n",
      "loading set: 13\n",
      "loading set: 14\n",
      "preprocessing set: 0\n",
      "preprocessing set: 1\n",
      "preprocessing set: 2\n",
      "preprocessing set: 3\n",
      "preprocessing set: 4\n",
      "preprocessing set: 5\n",
      "preprocessing set: 6\n",
      "preprocessing set: 7\n",
      "preprocessing set: 8\n",
      "preprocessing set: 9\n",
      "preprocessing set: 10\n",
      "preprocessing set: 11\n",
      "preprocessing set: 12\n",
      "preprocessing set: 13\n",
      "preprocessing set: 14\n",
      "processing set: 0\n",
      "processing set: 1\n",
      "processing set: 2\n",
      "processing set: 3\n",
      "processing set: 4\n",
      "processing set: 5\n",
      "processing set: 6\n",
      "processing set: 7\n",
      "processing set: 8\n",
      "processing set: 9\n",
      "processing set: 10\n",
      "processing set: 11\n",
      "processing set: 12\n",
      "processing set: 13\n",
      "processing set: 14\n"
     ]
    }
   ],
   "source": [
    "f = pm.ferh_fm_zeynab()\n",
    "f.load()\n",
    "f.preprocess()\n",
    "f.process()"
   ]
  },
  {
   "cell_type": "code",
   "execution_count": 3,
   "id": "aa596e5e",
   "metadata": {},
   "outputs": [
    {
     "name": "stdout",
     "output_type": "stream",
     "text": [
      "analyzing set: 0\n",
      "analyzing set: 1\n",
      "analyzing set: 2\n",
      "analyzing set: 3\n",
      "analyzing set: 4\n",
      "analyzing set: 5\n",
      "analyzing set: 6\n",
      "analyzing set: 7\n",
      "analyzing set: 8\n",
      "analyzing set: 9\n",
      "analyzing set: 10\n",
      "analyzing set: 11\n",
      "analyzing set: 12\n",
      "analyzing set: 13\n",
      "analyzing set: 14\n",
      "postprocessing\n"
     ]
    }
   ],
   "source": [
    "f.analyze()"
   ]
  },
  {
   "cell_type": "markdown",
   "id": "71f4b0ff",
   "metadata": {},
   "source": [
    "# Kreslení do diplomky"
   ]
  },
  {
   "cell_type": "code",
   "execution_count": 10,
   "id": "b9c8aa4f",
   "metadata": {
    "scrolled": true
   },
   "outputs": [
    {
     "ename": "NameError",
     "evalue": "name 'f1' is not defined",
     "output_type": "error",
     "traceback": [
      "\u001b[0;31m---------------------------------------------------------------------------\u001b[0m",
      "\u001b[0;31mNameError\u001b[0m                                 Traceback (most recent call last)",
      "Input \u001b[0;32mIn [10]\u001b[0m, in \u001b[0;36m<cell line: 16>\u001b[0;34m()\u001b[0m\n\u001b[1;32m     12\u001b[0m ax\u001b[38;5;241m.\u001b[39mset_ylabel(\u001b[38;5;124mr\u001b[39m\u001b[38;5;124m'\u001b[39m\u001b[38;5;124mMO koeficient (mrad)\u001b[39m\u001b[38;5;124m'\u001b[39m)\n\u001b[1;32m     14\u001b[0m ax\u001b[38;5;241m.\u001b[39mlegend(bbox_to_anchor\u001b[38;5;241m=\u001b[39m(\u001b[38;5;241m1\u001b[39m,\u001b[38;5;241m1\u001b[39m))\n\u001b[0;32m---> 16\u001b[0m D \u001b[38;5;241m=\u001b[39m pd\u001b[38;5;241m.\u001b[39mDataFrame({\u001b[38;5;124m'\u001b[39m\u001b[38;5;124mlambda\u001b[39m\u001b[38;5;124m'\u001b[39m:\u001b[43mf1\u001b[49m\u001b[38;5;241m.\u001b[39mdf\u001b[38;5;241m.\u001b[39mreset_index()[\u001b[38;5;124m'\u001b[39m\u001b[38;5;124mwavelength\u001b[39m\u001b[38;5;124m'\u001b[39m],\n\u001b[1;32m     17\u001b[0m                   \u001b[38;5;124m'\u001b[39m\u001b[38;5;124mP+\u001b[39m\u001b[38;5;124m'\u001b[39m:f1\u001b[38;5;241m.\u001b[39mdf\u001b[38;5;241m.\u001b[39mreset_index()[\u001b[38;5;124m'\u001b[39m\u001b[38;5;124mPp\u001b[39m\u001b[38;5;124m'\u001b[39m],\n\u001b[1;32m     18\u001b[0m                   \u001b[38;5;124m'\u001b[39m\u001b[38;5;124mP-\u001b[39m\u001b[38;5;124m'\u001b[39m:f1\u001b[38;5;241m.\u001b[39mdf\u001b[38;5;241m.\u001b[39mreset_index()[\u001b[38;5;124m'\u001b[39m\u001b[38;5;124mPm\u001b[39m\u001b[38;5;124m'\u001b[39m]})\n\u001b[1;32m     19\u001b[0m D\u001b[38;5;241m.\u001b[39mto_csv(\u001b[38;5;124m'\u001b[39m\u001b[38;5;124mout-nemec/5_10/data.csv\u001b[39m\u001b[38;5;124m'\u001b[39m)\n\u001b[1;32m     21\u001b[0m fig\u001b[38;5;241m.\u001b[39msavefig(\u001b[38;5;124m'\u001b[39m\u001b[38;5;124mout/ferh-pmld.pdf\u001b[39m\u001b[38;5;124m'\u001b[39m)\n",
      "\u001b[0;31mNameError\u001b[0m: name 'f1' is not defined"
     ]
    },
    {
     "data": {
      "image/png": "[encoded data removed]",
      "text/plain": [
       "<Figure size 288x180 with 1 Axes>"
      ]
     },
     "metadata": {
      "needs_background": "light"
     },
     "output_type": "display_data"
    }
   ],
   "source": [
    "fig, ax = plt.subplots(figsize=(4,2.5),constrained_layout=True)\n",
    "\n",
    "fd=f.df[(f.df.hext==50) & (f.df.sample_rotation==0)]\n",
    "\n",
    "ax.errorbar(fd['wavelength'], fd['Pp'], 0.02, color='C0', marker='o', markersize=3, linewidth=0.5, label=r'$P_+$',capsize=2)\n",
    "ax.errorbar(fd['wavelength'], fd['Pm'], 0.02, color='C1', marker='o', markersize=3, linewidth=0.5, label=r'$P_-$',capsize=2)\n",
    "\n",
    "\n",
    "ax.axhline(y=0, color='black', linewidth=1)\n",
    "\n",
    "ax.set_xlabel(r'$\\lambda$ (nm)')\n",
    "ax.set_ylabel(r'MO koeficient (mrad)')\n",
    "\n",
    "ax.legend(bbox_to_anchor=(1,1))\n",
    "\n",
    "D = pd.DataFrame({'lambda':fd['wavelength'],\n",
    "                  'P+':fdf.reset_index()['Pp'],\n",
    "                  'P-':f1.df.reset_index()['Pm']})\n",
    "D.to_csv('out-nemec/5_10/data.csv')\n",
    "\n",
    "fig.savefig('out/ferh-pmld.pdf')"
   ]
  },
  {
   "cell_type": "markdown",
   "id": "d93378c4",
   "metadata": {},
   "source": [
    "## pro zkoušku Pea Pha"
   ]
  },
  {
   "cell_type": "code",
   "execution_count": 5,
   "id": "f3ecb451",
   "metadata": {
    "scrolled": true
   },
   "outputs": [
    {
     "data": {
      "text/plain": [
       "<matplotlib.lines.Line2D at 0x7f6e502491b0>"
      ]
     },
     "execution_count": 5,
     "metadata": {},
     "output_type": "execute_result"
    },
    {
     "data": {
      "image/png": "[encoded data removed]",
      "text/plain": [
       "<Figure size 432x288 with 1 Axes>"
      ]
     },
     "metadata": {
      "needs_background": "light"
     },
     "output_type": "display_data"
    }
   ],
   "source": [
    "ax = plt.gca()\n",
    "ax.plot(fd['wavelength'], fd['Pp']+fd['Pm'],'o-')\n",
    "ax.plot(fd['wavelength'], fd['Pp']-fd['Pm'],'o-')\n",
    "ax.axhline(y=0, color='black')"
   ]
  },
  {
   "cell_type": "markdown",
   "id": "a287d7f3",
   "metadata": {},
   "source": [
    "## pro zkoušku"
   ]
  },
  {
   "cell_type": "code",
   "execution_count": 6,
   "id": "3d824534",
   "metadata": {},
   "outputs": [
    {
     "data": {
      "text/plain": [
       "<matplotlib.lines.Line2D at 0x7f6e5030d900>"
      ]
     },
     "execution_count": 6,
     "metadata": {},
     "output_type": "execute_result"
    },
    {
     "data": {
      "image/png": "[encoded data removed]",
      "text/plain": [
       "<Figure size 432x288 with 1 Axes>"
      ]
     },
     "metadata": {
      "needs_background": "light"
     },
     "output_type": "display_data"
    }
   ],
   "source": [
    "ax = plt.gca()\n",
    "ax.plot(fd['wavelength'], fd['Pp'],'o-')\n",
    "ax.plot(fd['wavelength'], -fd['Pm'],'o-')\n",
    "ax.axhline(y=0, color='black')"
   ]
  },
  {
   "cell_type": "code",
   "execution_count": 7,
   "id": "2722abbd",
   "metadata": {},
   "outputs": [
    {
     "name": "stdout",
     "output_type": "stream",
     "text": [
      "0     -0.736125\n",
      "1     -2.847355\n",
      "2    -10.511578\n",
      "4     -1.047035\n",
      "5     -0.849097\n",
      "6     -0.336077\n",
      "8     -0.877440\n",
      "9     -1.168501\n",
      "10    -1.140174\n",
      "13    -1.098150\n",
      "Name: Pip, dtype: float64\n",
      "0    -5.844230\n",
      "1    -2.414300\n",
      "2    -5.582453\n",
      "4    -4.180607\n",
      "5    -4.150898\n",
      "6    -3.443108\n",
      "8    -4.339645\n",
      "9    -4.290668\n",
      "10   -4.115886\n",
      "13   -4.131115\n",
      "Name: Pim, dtype: float64\n"
     ]
    }
   ],
   "source": [
    "print(fd['Pip'])\n",
    "print(fd['Pim'])"
   ]
  }
 ],
 "metadata": {
  "kernelspec": {
   "display_name": "Python 3 (ipykernel)",
   "language": "python",
   "name": "python3"
  },
  "language_info": {
   "codemirror_mode": {
    "name": "ipython",
    "version": 3
   },
   "file_extension": ".py",
   "mimetype": "text/x-python",
   "name": "python",
   "nbconvert_exporter": "python",
   "pygments_lexer": "ipython3",
   "version": "3.10.4"
  }
 },
 "nbformat": 4,
 "nbformat_minor": 5
}
